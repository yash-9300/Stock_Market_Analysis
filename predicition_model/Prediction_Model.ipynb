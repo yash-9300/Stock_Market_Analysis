{
 "cells": [
  {
   "cell_type": "code",
   "execution_count": 1,
   "id": "006d385c",
   "metadata": {},
   "outputs": [],
   "source": [
    "import pandas as pd"
   ]
  },
  {
   "cell_type": "code",
   "execution_count": 2,
   "id": "60f6d1ef",
   "metadata": {},
   "outputs": [],
   "source": [
    "# Load the Dataset\n",
    "df=pd.read_csv(\"C:/Users/HP/Desktop/predicition_model/stock-market data.csv\")"
   ]
  },
  {
   "cell_type": "code",
   "execution_count": 3,
   "id": "4ad75b96",
   "metadata": {},
   "outputs": [
    {
     "data": {
      "text/html": [
       "<div>\n",
       "<style scoped>\n",
       "    .dataframe tbody tr th:only-of-type {\n",
       "        vertical-align: middle;\n",
       "    }\n",
       "\n",
       "    .dataframe tbody tr th {\n",
       "        vertical-align: top;\n",
       "    }\n",
       "\n",
       "    .dataframe thead th {\n",
       "        text-align: right;\n",
       "    }\n",
       "</style>\n",
       "<table border=\"1\" class=\"dataframe\">\n",
       "  <thead>\n",
       "    <tr style=\"text-align: right;\">\n",
       "      <th></th>\n",
       "      <th>Date</th>\n",
       "      <th>Open</th>\n",
       "      <th>High</th>\n",
       "      <th>Low</th>\n",
       "      <th>Close</th>\n",
       "      <th>Adj Close</th>\n",
       "      <th>Volume</th>\n",
       "    </tr>\n",
       "  </thead>\n",
       "  <tbody>\n",
       "    <tr>\n",
       "      <th>0</th>\n",
       "      <td>21-07-2010</td>\n",
       "      <td>25.100000</td>\n",
       "      <td>25.100000</td>\n",
       "      <td>24.700001</td>\n",
       "      <td>24.700001</td>\n",
       "      <td>23.343714</td>\n",
       "      <td>42000</td>\n",
       "    </tr>\n",
       "    <tr>\n",
       "      <th>1</th>\n",
       "      <td>22-07-2010</td>\n",
       "      <td>25.420000</td>\n",
       "      <td>25.420000</td>\n",
       "      <td>25.129999</td>\n",
       "      <td>25.260000</td>\n",
       "      <td>23.872967</td>\n",
       "      <td>17500</td>\n",
       "    </tr>\n",
       "    <tr>\n",
       "      <th>2</th>\n",
       "      <td>23-07-2010</td>\n",
       "      <td>25.540001</td>\n",
       "      <td>25.540001</td>\n",
       "      <td>25.080000</td>\n",
       "      <td>25.280001</td>\n",
       "      <td>23.891865</td>\n",
       "      <td>8600</td>\n",
       "    </tr>\n",
       "    <tr>\n",
       "      <th>3</th>\n",
       "      <td>26-07-2010</td>\n",
       "      <td>25.400000</td>\n",
       "      <td>25.400000</td>\n",
       "      <td>25.219999</td>\n",
       "      <td>25.370001</td>\n",
       "      <td>23.976921</td>\n",
       "      <td>18900</td>\n",
       "    </tr>\n",
       "    <tr>\n",
       "      <th>4</th>\n",
       "      <td>27-07-2010</td>\n",
       "      <td>25.250000</td>\n",
       "      <td>25.290001</td>\n",
       "      <td>25.200001</td>\n",
       "      <td>25.290001</td>\n",
       "      <td>23.901318</td>\n",
       "      <td>8200</td>\n",
       "    </tr>\n",
       "    <tr>\n",
       "      <th>...</th>\n",
       "      <td>...</td>\n",
       "      <td>...</td>\n",
       "      <td>...</td>\n",
       "      <td>...</td>\n",
       "      <td>...</td>\n",
       "      <td>...</td>\n",
       "      <td>...</td>\n",
       "    </tr>\n",
       "    <tr>\n",
       "      <th>2437</th>\n",
       "      <td>26-03-2020</td>\n",
       "      <td>41.200001</td>\n",
       "      <td>42.290001</td>\n",
       "      <td>41.200001</td>\n",
       "      <td>42.090000</td>\n",
       "      <td>42.090000</td>\n",
       "      <td>19600</td>\n",
       "    </tr>\n",
       "    <tr>\n",
       "      <th>2438</th>\n",
       "      <td>27-03-2020</td>\n",
       "      <td>40.360001</td>\n",
       "      <td>40.500000</td>\n",
       "      <td>39.900002</td>\n",
       "      <td>40.419998</td>\n",
       "      <td>40.419998</td>\n",
       "      <td>6900</td>\n",
       "    </tr>\n",
       "    <tr>\n",
       "      <th>2439</th>\n",
       "      <td>30-03-2020</td>\n",
       "      <td>40.549999</td>\n",
       "      <td>40.709999</td>\n",
       "      <td>39.970001</td>\n",
       "      <td>40.709999</td>\n",
       "      <td>40.709999</td>\n",
       "      <td>3000</td>\n",
       "    </tr>\n",
       "    <tr>\n",
       "      <th>2440</th>\n",
       "      <td>31-03-2020</td>\n",
       "      <td>40.500000</td>\n",
       "      <td>41.230000</td>\n",
       "      <td>40.250000</td>\n",
       "      <td>40.340000</td>\n",
       "      <td>40.340000</td>\n",
       "      <td>4500</td>\n",
       "    </tr>\n",
       "    <tr>\n",
       "      <th>2441</th>\n",
       "      <td>01-04-2020</td>\n",
       "      <td>39.169998</td>\n",
       "      <td>39.169998</td>\n",
       "      <td>38.599998</td>\n",
       "      <td>39.029999</td>\n",
       "      <td>39.029999</td>\n",
       "      <td>5700</td>\n",
       "    </tr>\n",
       "  </tbody>\n",
       "</table>\n",
       "<p>2442 rows × 7 columns</p>\n",
       "</div>"
      ],
      "text/plain": [
       "            Date       Open       High        Low      Close  Adj Close  \\\n",
       "0     21-07-2010  25.100000  25.100000  24.700001  24.700001  23.343714   \n",
       "1     22-07-2010  25.420000  25.420000  25.129999  25.260000  23.872967   \n",
       "2     23-07-2010  25.540001  25.540001  25.080000  25.280001  23.891865   \n",
       "3     26-07-2010  25.400000  25.400000  25.219999  25.370001  23.976921   \n",
       "4     27-07-2010  25.250000  25.290001  25.200001  25.290001  23.901318   \n",
       "...          ...        ...        ...        ...        ...        ...   \n",
       "2437  26-03-2020  41.200001  42.290001  41.200001  42.090000  42.090000   \n",
       "2438  27-03-2020  40.360001  40.500000  39.900002  40.419998  40.419998   \n",
       "2439  30-03-2020  40.549999  40.709999  39.970001  40.709999  40.709999   \n",
       "2440  31-03-2020  40.500000  41.230000  40.250000  40.340000  40.340000   \n",
       "2441  01-04-2020  39.169998  39.169998  38.599998  39.029999  39.029999   \n",
       "\n",
       "      Volume  \n",
       "0      42000  \n",
       "1      17500  \n",
       "2       8600  \n",
       "3      18900  \n",
       "4       8200  \n",
       "...      ...  \n",
       "2437   19600  \n",
       "2438    6900  \n",
       "2439    3000  \n",
       "2440    4500  \n",
       "2441    5700  \n",
       "\n",
       "[2442 rows x 7 columns]"
      ]
     },
     "execution_count": 3,
     "metadata": {},
     "output_type": "execute_result"
    }
   ],
   "source": [
    "df"
   ]
  },
  {
   "cell_type": "code",
   "execution_count": 4,
   "id": "fcf5f259",
   "metadata": {},
   "outputs": [],
   "source": [
    "X = df[['Open', 'Volume']]\n",
    "y = df['Close']"
   ]
  },
  {
   "cell_type": "code",
   "execution_count": 5,
   "id": "607ed0b5",
   "metadata": {},
   "outputs": [],
   "source": [
    "# Adding lagged values of the target variable (Close price)\n",
    "for i in range(1, 4):\n",
    "    df[f'Close_lagged_{i}'] = df['Close'].shift(i)"
   ]
  },
  {
   "cell_type": "code",
   "execution_count": 6,
   "id": "07c0be42",
   "metadata": {},
   "outputs": [],
   "source": [
    "# Drop rows with NaN resulting from lagging\n",
    "df.dropna(inplace=True)\n",
    "X = df[['Open', 'Volume', 'Close_lagged_1', 'Close_lagged_2', 'Close_lagged_3']]\n",
    "y = df['Close']"
   ]
  },
  {
   "cell_type": "code",
   "execution_count": 7,
   "id": "f2166b76",
   "metadata": {},
   "outputs": [],
   "source": [
    "# Splitting the data into training and testing sets\n",
    "from sklearn.model_selection import train_test_split\n",
    "X_train, X_test, y_train, y_test = train_test_split(X, y, test_size=0.2, random_state=44)"
   ]
  },
  {
   "cell_type": "code",
   "execution_count": 8,
   "id": "c30b2dd5",
   "metadata": {},
   "outputs": [
    {
     "data": {
      "text/html": [
       "<style>#sk-container-id-1 {color: black;}#sk-container-id-1 pre{padding: 0;}#sk-container-id-1 div.sk-toggleable {background-color: white;}#sk-container-id-1 label.sk-toggleable__label {cursor: pointer;display: block;width: 100%;margin-bottom: 0;padding: 0.3em;box-sizing: border-box;text-align: center;}#sk-container-id-1 label.sk-toggleable__label-arrow:before {content: \"▸\";float: left;margin-right: 0.25em;color: #696969;}#sk-container-id-1 label.sk-toggleable__label-arrow:hover:before {color: black;}#sk-container-id-1 div.sk-estimator:hover label.sk-toggleable__label-arrow:before {color: black;}#sk-container-id-1 div.sk-toggleable__content {max-height: 0;max-width: 0;overflow: hidden;text-align: left;background-color: #f0f8ff;}#sk-container-id-1 div.sk-toggleable__content pre {margin: 0.2em;color: black;border-radius: 0.25em;background-color: #f0f8ff;}#sk-container-id-1 input.sk-toggleable__control:checked~div.sk-toggleable__content {max-height: 200px;max-width: 100%;overflow: auto;}#sk-container-id-1 input.sk-toggleable__control:checked~label.sk-toggleable__label-arrow:before {content: \"▾\";}#sk-container-id-1 div.sk-estimator input.sk-toggleable__control:checked~label.sk-toggleable__label {background-color: #d4ebff;}#sk-container-id-1 div.sk-label input.sk-toggleable__control:checked~label.sk-toggleable__label {background-color: #d4ebff;}#sk-container-id-1 input.sk-hidden--visually {border: 0;clip: rect(1px 1px 1px 1px);clip: rect(1px, 1px, 1px, 1px);height: 1px;margin: -1px;overflow: hidden;padding: 0;position: absolute;width: 1px;}#sk-container-id-1 div.sk-estimator {font-family: monospace;background-color: #f0f8ff;border: 1px dotted black;border-radius: 0.25em;box-sizing: border-box;margin-bottom: 0.5em;}#sk-container-id-1 div.sk-estimator:hover {background-color: #d4ebff;}#sk-container-id-1 div.sk-parallel-item::after {content: \"\";width: 100%;border-bottom: 1px solid gray;flex-grow: 1;}#sk-container-id-1 div.sk-label:hover label.sk-toggleable__label {background-color: #d4ebff;}#sk-container-id-1 div.sk-serial::before {content: \"\";position: absolute;border-left: 1px solid gray;box-sizing: border-box;top: 0;bottom: 0;left: 50%;z-index: 0;}#sk-container-id-1 div.sk-serial {display: flex;flex-direction: column;align-items: center;background-color: white;padding-right: 0.2em;padding-left: 0.2em;position: relative;}#sk-container-id-1 div.sk-item {position: relative;z-index: 1;}#sk-container-id-1 div.sk-parallel {display: flex;align-items: stretch;justify-content: center;background-color: white;position: relative;}#sk-container-id-1 div.sk-item::before, #sk-container-id-1 div.sk-parallel-item::before {content: \"\";position: absolute;border-left: 1px solid gray;box-sizing: border-box;top: 0;bottom: 0;left: 50%;z-index: -1;}#sk-container-id-1 div.sk-parallel-item {display: flex;flex-direction: column;z-index: 1;position: relative;background-color: white;}#sk-container-id-1 div.sk-parallel-item:first-child::after {align-self: flex-end;width: 50%;}#sk-container-id-1 div.sk-parallel-item:last-child::after {align-self: flex-start;width: 50%;}#sk-container-id-1 div.sk-parallel-item:only-child::after {width: 0;}#sk-container-id-1 div.sk-dashed-wrapped {border: 1px dashed gray;margin: 0 0.4em 0.5em 0.4em;box-sizing: border-box;padding-bottom: 0.4em;background-color: white;}#sk-container-id-1 div.sk-label label {font-family: monospace;font-weight: bold;display: inline-block;line-height: 1.2em;}#sk-container-id-1 div.sk-label-container {text-align: center;}#sk-container-id-1 div.sk-container {/* jupyter's `normalize.less` sets `[hidden] { display: none; }` but bootstrap.min.css set `[hidden] { display: none !important; }` so we also need the `!important` here to be able to override the default hidden behavior on the sphinx rendered scikit-learn.org. See: https://github.com/scikit-learn/scikit-learn/issues/21755 */display: inline-block !important;position: relative;}#sk-container-id-1 div.sk-text-repr-fallback {display: none;}</style><div id=\"sk-container-id-1\" class=\"sk-top-container\"><div class=\"sk-text-repr-fallback\"><pre>LinearRegression()</pre><b>In a Jupyter environment, please rerun this cell to show the HTML representation or trust the notebook. <br />On GitHub, the HTML representation is unable to render, please try loading this page with nbviewer.org.</b></div><div class=\"sk-container\" hidden><div class=\"sk-item\"><div class=\"sk-estimator sk-toggleable\"><input class=\"sk-toggleable__control sk-hidden--visually\" id=\"sk-estimator-id-1\" type=\"checkbox\" checked><label for=\"sk-estimator-id-1\" class=\"sk-toggleable__label sk-toggleable__label-arrow\">LinearRegression</label><div class=\"sk-toggleable__content\"><pre>LinearRegression()</pre></div></div></div></div></div>"
      ],
      "text/plain": [
       "LinearRegression()"
      ]
     },
     "execution_count": 8,
     "metadata": {},
     "output_type": "execute_result"
    }
   ],
   "source": [
    "# model training\n",
    "from sklearn.linear_model import LinearRegression\n",
    "model = LinearRegression()\n",
    "model.fit(X_train, y_train)"
   ]
  },
  {
   "cell_type": "code",
   "execution_count": 9,
   "id": "d5f55745",
   "metadata": {},
   "outputs": [
    {
     "name": "stdout",
     "output_type": "stream",
     "text": [
      "Mean Squared Error: 0.10141538500108203\n"
     ]
    }
   ],
   "source": [
    "# Model evaluation\n",
    "from sklearn.metrics import mean_squared_error\n",
    "y_pred = model.predict(X_test)\n",
    "mse = mean_squared_error(y_test, y_pred)\n",
    "print(\"Mean Squared Error:\", mse)"
   ]
  },
  {
   "cell_type": "code",
   "execution_count": 10,
   "id": "c603c135",
   "metadata": {},
   "outputs": [
    {
     "data": {
      "text/html": [
       "<div>\n",
       "<style scoped>\n",
       "    .dataframe tbody tr th:only-of-type {\n",
       "        vertical-align: middle;\n",
       "    }\n",
       "\n",
       "    .dataframe tbody tr th {\n",
       "        vertical-align: top;\n",
       "    }\n",
       "\n",
       "    .dataframe thead th {\n",
       "        text-align: right;\n",
       "    }\n",
       "</style>\n",
       "<table border=\"1\" class=\"dataframe\">\n",
       "  <thead>\n",
       "    <tr style=\"text-align: right;\">\n",
       "      <th></th>\n",
       "      <th>Open</th>\n",
       "      <th>Volume</th>\n",
       "      <th>Close_lagged_1</th>\n",
       "      <th>Close_lagged_2</th>\n",
       "      <th>Close_lagged_3</th>\n",
       "    </tr>\n",
       "  </thead>\n",
       "  <tbody>\n",
       "    <tr>\n",
       "      <th>2441</th>\n",
       "      <td>39.169998</td>\n",
       "      <td>5700</td>\n",
       "      <td>40.34</td>\n",
       "      <td>40.709999</td>\n",
       "      <td>40.419998</td>\n",
       "    </tr>\n",
       "  </tbody>\n",
       "</table>\n",
       "</div>"
      ],
      "text/plain": [
       "           Open  Volume  Close_lagged_1  Close_lagged_2  Close_lagged_3\n",
       "2441  39.169998    5700           40.34       40.709999       40.419998"
      ]
     },
     "execution_count": 10,
     "metadata": {},
     "output_type": "execute_result"
    }
   ],
   "source": [
    "# Prediction for the next 3 days\n",
    "# Get the last available values to predict the next 3 days\n",
    "last_available_values = X.tail(1)\n",
    "last_available_values "
   ]
  },
  {
   "cell_type": "code",
   "execution_count": 11,
   "id": "a91fd439",
   "metadata": {},
   "outputs": [],
   "source": [
    "#next_3_days_pred = model.predict(last_available_values)\n",
    "#print(\"Predicted Close Prices for the Next 3 Days:\", next_3_days_pred)"
   ]
  },
  {
   "cell_type": "code",
   "execution_count": 12,
   "id": "bba62293",
   "metadata": {},
   "outputs": [
    {
     "name": "stdout",
     "output_type": "stream",
     "text": [
      "Predicted Close Prices for the Next 3 Days: [39.32931469452694, 39.26381411650613, 39.20446931539973]\n"
     ]
    },
    {
     "name": "stderr",
     "output_type": "stream",
     "text": [
      "C:\\Users\\HP\\AppData\\Local\\Temp\\ipykernel_18728\\2454145894.py:8: SettingWithCopyWarning: \n",
      "A value is trying to be set on a copy of a slice from a DataFrame.\n",
      "Try using .loc[row_indexer,col_indexer] = value instead\n",
      "\n",
      "See the caveats in the documentation: https://pandas.pydata.org/pandas-docs/stable/user_guide/indexing.html#returning-a-view-versus-a-copy\n",
      "  last_available_values['Open'] = [next_day_pred[0]]  # Update Open with predicted Close\n",
      "C:\\Users\\HP\\AppData\\Local\\Temp\\ipykernel_18728\\2454145894.py:9: SettingWithCopyWarning: \n",
      "A value is trying to be set on a copy of a slice from a DataFrame.\n",
      "Try using .loc[row_indexer,col_indexer] = value instead\n",
      "\n",
      "See the caveats in the documentation: https://pandas.pydata.org/pandas-docs/stable/user_guide/indexing.html#returning-a-view-versus-a-copy\n",
      "  last_available_values['Volume'] = [20000]  # You can update Volume based on your data\n",
      "C:\\Users\\HP\\AppData\\Local\\Temp\\ipykernel_18728\\2454145894.py:11: SettingWithCopyWarning: \n",
      "A value is trying to be set on a copy of a slice from a DataFrame.\n",
      "Try using .loc[row_indexer,col_indexer] = value instead\n",
      "\n",
      "See the caveats in the documentation: https://pandas.pydata.org/pandas-docs/stable/user_guide/indexing.html#returning-a-view-versus-a-copy\n",
      "  last_available_values[f'Close_lagged_{j}'] = last_available_values[f'Close_lagged_{j-1}']\n",
      "C:\\Users\\HP\\AppData\\Local\\Temp\\ipykernel_18728\\2454145894.py:12: SettingWithCopyWarning: \n",
      "A value is trying to be set on a copy of a slice from a DataFrame.\n",
      "Try using .loc[row_indexer,col_indexer] = value instead\n",
      "\n",
      "See the caveats in the documentation: https://pandas.pydata.org/pandas-docs/stable/user_guide/indexing.html#returning-a-view-versus-a-copy\n",
      "  last_available_values['Close_lagged_1'] = [next_day_pred[0]]  # Update Close_lagged_1 with predicted Close\n",
      "C:\\Users\\HP\\AppData\\Local\\Temp\\ipykernel_18728\\2454145894.py:8: SettingWithCopyWarning: \n",
      "A value is trying to be set on a copy of a slice from a DataFrame.\n",
      "Try using .loc[row_indexer,col_indexer] = value instead\n",
      "\n",
      "See the caveats in the documentation: https://pandas.pydata.org/pandas-docs/stable/user_guide/indexing.html#returning-a-view-versus-a-copy\n",
      "  last_available_values['Open'] = [next_day_pred[0]]  # Update Open with predicted Close\n",
      "C:\\Users\\HP\\AppData\\Local\\Temp\\ipykernel_18728\\2454145894.py:9: SettingWithCopyWarning: \n",
      "A value is trying to be set on a copy of a slice from a DataFrame.\n",
      "Try using .loc[row_indexer,col_indexer] = value instead\n",
      "\n",
      "See the caveats in the documentation: https://pandas.pydata.org/pandas-docs/stable/user_guide/indexing.html#returning-a-view-versus-a-copy\n",
      "  last_available_values['Volume'] = [20000]  # You can update Volume based on your data\n",
      "C:\\Users\\HP\\AppData\\Local\\Temp\\ipykernel_18728\\2454145894.py:11: SettingWithCopyWarning: \n",
      "A value is trying to be set on a copy of a slice from a DataFrame.\n",
      "Try using .loc[row_indexer,col_indexer] = value instead\n",
      "\n",
      "See the caveats in the documentation: https://pandas.pydata.org/pandas-docs/stable/user_guide/indexing.html#returning-a-view-versus-a-copy\n",
      "  last_available_values[f'Close_lagged_{j}'] = last_available_values[f'Close_lagged_{j-1}']\n",
      "C:\\Users\\HP\\AppData\\Local\\Temp\\ipykernel_18728\\2454145894.py:12: SettingWithCopyWarning: \n",
      "A value is trying to be set on a copy of a slice from a DataFrame.\n",
      "Try using .loc[row_indexer,col_indexer] = value instead\n",
      "\n",
      "See the caveats in the documentation: https://pandas.pydata.org/pandas-docs/stable/user_guide/indexing.html#returning-a-view-versus-a-copy\n",
      "  last_available_values['Close_lagged_1'] = [next_day_pred[0]]  # Update Close_lagged_1 with predicted Close\n",
      "C:\\Users\\HP\\AppData\\Local\\Temp\\ipykernel_18728\\2454145894.py:8: SettingWithCopyWarning: \n",
      "A value is trying to be set on a copy of a slice from a DataFrame.\n",
      "Try using .loc[row_indexer,col_indexer] = value instead\n",
      "\n",
      "See the caveats in the documentation: https://pandas.pydata.org/pandas-docs/stable/user_guide/indexing.html#returning-a-view-versus-a-copy\n",
      "  last_available_values['Open'] = [next_day_pred[0]]  # Update Open with predicted Close\n",
      "C:\\Users\\HP\\AppData\\Local\\Temp\\ipykernel_18728\\2454145894.py:9: SettingWithCopyWarning: \n",
      "A value is trying to be set on a copy of a slice from a DataFrame.\n",
      "Try using .loc[row_indexer,col_indexer] = value instead\n",
      "\n",
      "See the caveats in the documentation: https://pandas.pydata.org/pandas-docs/stable/user_guide/indexing.html#returning-a-view-versus-a-copy\n",
      "  last_available_values['Volume'] = [20000]  # You can update Volume based on your data\n",
      "C:\\Users\\HP\\AppData\\Local\\Temp\\ipykernel_18728\\2454145894.py:11: SettingWithCopyWarning: \n",
      "A value is trying to be set on a copy of a slice from a DataFrame.\n",
      "Try using .loc[row_indexer,col_indexer] = value instead\n",
      "\n",
      "See the caveats in the documentation: https://pandas.pydata.org/pandas-docs/stable/user_guide/indexing.html#returning-a-view-versus-a-copy\n",
      "  last_available_values[f'Close_lagged_{j}'] = last_available_values[f'Close_lagged_{j-1}']\n",
      "C:\\Users\\HP\\AppData\\Local\\Temp\\ipykernel_18728\\2454145894.py:12: SettingWithCopyWarning: \n",
      "A value is trying to be set on a copy of a slice from a DataFrame.\n",
      "Try using .loc[row_indexer,col_indexer] = value instead\n",
      "\n",
      "See the caveats in the documentation: https://pandas.pydata.org/pandas-docs/stable/user_guide/indexing.html#returning-a-view-versus-a-copy\n",
      "  last_available_values['Close_lagged_1'] = [next_day_pred[0]]  # Update Close_lagged_1 with predicted Close\n"
     ]
    }
   ],
   "source": [
    "next_3_days_pred = []\n",
    "for i in range(3):\n",
    "    # Predict for the next day\n",
    "    next_day_pred = model.predict(last_available_values)\n",
    "    next_3_days_pred.append(next_day_pred[0])  # Append the predicted value to the result list\n",
    "\n",
    "    # Update the features for the next prediction\n",
    "    last_available_values['Open'] = [next_day_pred[0]]  # Update Open with predicted Close\n",
    "    last_available_values['Volume'] = [20000]  # You can update Volume based on your data\n",
    "    for j in range(3, 1, -1):\n",
    "        last_available_values[f'Close_lagged_{j}'] = last_available_values[f'Close_lagged_{j-1}']\n",
    "    last_available_values['Close_lagged_1'] = [next_day_pred[0]]  # Update Close_lagged_1 with predicted Close\n",
    "\n",
    "print(\"Predicted Close Prices for the Next 3 Days:\", next_3_days_pred)"
   ]
  },
  {
   "cell_type": "code",
   "execution_count": 13,
   "id": "a4eb7d99",
   "metadata": {},
   "outputs": [],
   "source": [
    "# Predicted close prices for the next 3 days\n",
    "next_3_days_pred = [39.32931469452693, 39.263814116506104, 39.204469315399685]"
   ]
  },
  {
   "cell_type": "code",
   "execution_count": 14,
   "id": "23934652",
   "metadata": {},
   "outputs": [
    {
     "data": {
      "text/html": [
       "<div>\n",
       "<style scoped>\n",
       "    .dataframe tbody tr th:only-of-type {\n",
       "        vertical-align: middle;\n",
       "    }\n",
       "\n",
       "    .dataframe tbody tr th {\n",
       "        vertical-align: top;\n",
       "    }\n",
       "\n",
       "    .dataframe thead th {\n",
       "        text-align: right;\n",
       "    }\n",
       "</style>\n",
       "<table border=\"1\" class=\"dataframe\">\n",
       "  <thead>\n",
       "    <tr style=\"text-align: right;\">\n",
       "      <th></th>\n",
       "      <th>Date</th>\n",
       "      <th>Open</th>\n",
       "      <th>High</th>\n",
       "      <th>Low</th>\n",
       "      <th>Close</th>\n",
       "      <th>Adj Close</th>\n",
       "      <th>Volume</th>\n",
       "      <th>Close_lagged_1</th>\n",
       "      <th>Close_lagged_2</th>\n",
       "      <th>Close_lagged_3</th>\n",
       "    </tr>\n",
       "  </thead>\n",
       "  <tbody>\n",
       "    <tr>\n",
       "      <th>2441</th>\n",
       "      <td>01-04-2020</td>\n",
       "      <td>39.169998</td>\n",
       "      <td>39.169998</td>\n",
       "      <td>38.599998</td>\n",
       "      <td>39.029999</td>\n",
       "      <td>39.029999</td>\n",
       "      <td>5700</td>\n",
       "      <td>40.34</td>\n",
       "      <td>40.709999</td>\n",
       "      <td>40.419998</td>\n",
       "    </tr>\n",
       "  </tbody>\n",
       "</table>\n",
       "</div>"
      ],
      "text/plain": [
       "            Date       Open       High        Low      Close  Adj Close  \\\n",
       "2441  01-04-2020  39.169998  39.169998  38.599998  39.029999  39.029999   \n",
       "\n",
       "      Volume  Close_lagged_1  Close_lagged_2  Close_lagged_3  \n",
       "2441    5700           40.34       40.709999       40.419998  "
      ]
     },
     "execution_count": 14,
     "metadata": {},
     "output_type": "execute_result"
    }
   ],
   "source": [
    "df.tail(1)"
   ]
  },
  {
   "cell_type": "code",
   "execution_count": 15,
   "id": "3484198b",
   "metadata": {},
   "outputs": [],
   "source": [
    "# Dates for the next 3 days\n",
    "dates = [\"02-02-2020\", \"03-02-2020\", \"04-02-2020\"]"
   ]
  },
  {
   "cell_type": "code",
   "execution_count": 16,
   "id": "4763001b",
   "metadata": {},
   "outputs": [],
   "source": [
    "# Create a DataFrame with dates and predicted close prices\n",
    "predictions_df = pd.DataFrame({\"Date\": dates, \"Predicted Stock Prices\": next_3_days_pred})"
   ]
  },
  {
   "cell_type": "code",
   "execution_count": 17,
   "id": "f523fcd4",
   "metadata": {},
   "outputs": [
    {
     "data": {
      "text/html": [
       "<div>\n",
       "<style scoped>\n",
       "    .dataframe tbody tr th:only-of-type {\n",
       "        vertical-align: middle;\n",
       "    }\n",
       "\n",
       "    .dataframe tbody tr th {\n",
       "        vertical-align: top;\n",
       "    }\n",
       "\n",
       "    .dataframe thead th {\n",
       "        text-align: right;\n",
       "    }\n",
       "</style>\n",
       "<table border=\"1\" class=\"dataframe\">\n",
       "  <thead>\n",
       "    <tr style=\"text-align: right;\">\n",
       "      <th></th>\n",
       "      <th>Date</th>\n",
       "      <th>Predicted Stock Prices</th>\n",
       "    </tr>\n",
       "  </thead>\n",
       "  <tbody>\n",
       "    <tr>\n",
       "      <th>0</th>\n",
       "      <td>02-02-2020</td>\n",
       "      <td>39.329315</td>\n",
       "    </tr>\n",
       "    <tr>\n",
       "      <th>1</th>\n",
       "      <td>03-02-2020</td>\n",
       "      <td>39.263814</td>\n",
       "    </tr>\n",
       "    <tr>\n",
       "      <th>2</th>\n",
       "      <td>04-02-2020</td>\n",
       "      <td>39.204469</td>\n",
       "    </tr>\n",
       "  </tbody>\n",
       "</table>\n",
       "</div>"
      ],
      "text/plain": [
       "         Date  Predicted Stock Prices\n",
       "0  02-02-2020               39.329315\n",
       "1  03-02-2020               39.263814\n",
       "2  04-02-2020               39.204469"
      ]
     },
     "execution_count": 17,
     "metadata": {},
     "output_type": "execute_result"
    }
   ],
   "source": [
    "predictions_df"
   ]
  },
  {
   "cell_type": "code",
   "execution_count": 18,
   "id": "ee172e92",
   "metadata": {},
   "outputs": [],
   "source": [
    "# Export the DataFrame to an Excel file to import it to tableau public\n",
    "predictions_df.to_excel(\"C:/Users/HP/Desktop/predicition_model/Output/predicted_stock_prices.xlsx\", index=False)"
   ]
  },
  {
   "cell_type": "code",
   "execution_count": null,
   "id": "f35309d7",
   "metadata": {},
   "outputs": [],
   "source": []
  },
  {
   "cell_type": "code",
   "execution_count": null,
   "id": "5c12a1a5",
   "metadata": {},
   "outputs": [],
   "source": []
  },
  {
   "cell_type": "code",
   "execution_count": null,
   "id": "03bf5e4e",
   "metadata": {},
   "outputs": [],
   "source": []
  },
  {
   "cell_type": "code",
   "execution_count": null,
   "id": "2055e2db",
   "metadata": {},
   "outputs": [],
   "source": []
  }
 ],
 "metadata": {
  "kernelspec": {
   "display_name": "Python 3 (ipykernel)",
   "language": "python",
   "name": "python3"
  },
  "language_info": {
   "codemirror_mode": {
    "name": "ipython",
    "version": 3
   },
   "file_extension": ".py",
   "mimetype": "text/x-python",
   "name": "python",
   "nbconvert_exporter": "python",
   "pygments_lexer": "ipython3",
   "version": "3.11.4"
  }
 },
 "nbformat": 4,
 "nbformat_minor": 5
}
